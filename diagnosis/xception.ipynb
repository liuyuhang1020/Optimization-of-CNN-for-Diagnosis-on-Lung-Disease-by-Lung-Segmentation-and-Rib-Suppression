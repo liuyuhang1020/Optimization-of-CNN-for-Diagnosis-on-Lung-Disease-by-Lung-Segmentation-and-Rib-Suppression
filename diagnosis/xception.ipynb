{
 "cells": [
  {
   "cell_type": "code",
   "execution_count": 1,
   "id": "51fa6d2f",
   "metadata": {
    "_cell_guid": "b1076dfc-b9ad-4769-8c92-a6c4dae69d19",
    "_uuid": "8f2839f25d086af736a60e9eeb907d3b93b6e0e5",
    "execution": {
     "iopub.execute_input": "2022-09-12T04:55:37.704997Z",
     "iopub.status.busy": "2022-09-12T04:55:37.704441Z",
     "iopub.status.idle": "2022-09-12T04:55:43.741665Z",
     "shell.execute_reply": "2022-09-12T04:55:43.740699Z"
    },
    "papermill": {
     "duration": 6.047899,
     "end_time": "2022-09-12T04:55:43.744192",
     "exception": false,
     "start_time": "2022-09-12T04:55:37.696293",
     "status": "completed"
    },
    "tags": []
   },
   "outputs": [],
   "source": [
    "import numpy as np\n",
    "import pandas as pd\n",
    "\n",
    "import matplotlib.pyplot as plt\n",
    "import seaborn as sns\n",
    "sns.set_style('darkgrid')\n",
    "\n",
    "import os\n",
    "import random\n",
    "import keras\n",
    "\n",
    "import warnings\n",
    "warnings.filterwarnings('ignore')\n",
    "\n",
    "from sklearn.model_selection import train_test_split\n",
    "\n",
    "from keras.preprocessing.image import load_img\n",
    "from keras.preprocessing.image import img_to_array\n",
    "from keras.preprocessing.image import ImageDataGenerator\n",
    "\n",
    "from sklearn.metrics import classification_report\n",
    "import tensorflow as tf"
   ]
  },
  {
   "cell_type": "code",
   "execution_count": 2,
   "id": "713bc173",
   "metadata": {
    "execution": {
     "iopub.execute_input": "2022-09-12T04:55:43.755582Z",
     "iopub.status.busy": "2022-09-12T04:55:43.755043Z",
     "iopub.status.idle": "2022-09-12T04:55:43.759955Z",
     "shell.execute_reply": "2022-09-12T04:55:43.758937Z"
    },
    "papermill": {
     "duration": 0.013053,
     "end_time": "2022-09-12T04:55:43.762298",
     "exception": false,
     "start_time": "2022-09-12T04:55:43.749245",
     "status": "completed"
    },
    "tags": []
   },
   "outputs": [],
   "source": [
    "c = '../input/covid19-radiography-database/COVID-19_Radiography_Dataset/COVID/images'\n",
    "n = '../input/covid19-radiography-database/COVID-19_Radiography_Dataset/Normal/images'\n",
    "p = '../input/covid19-radiography-database/COVID-19_Radiography_Dataset/Viral Pneumonia/images'\n",
    "l = '../input/covid19-radiography-database/COVID-19_Radiography_Dataset/Lung_Opacity/images'"
   ]
  },
  {
   "cell_type": "code",
   "execution_count": 3,
   "id": "6f431a81",
   "metadata": {
    "execution": {
     "iopub.execute_input": "2022-09-12T04:55:43.773116Z",
     "iopub.status.busy": "2022-09-12T04:55:43.772551Z",
     "iopub.status.idle": "2022-09-12T04:55:44.650613Z",
     "shell.execute_reply": "2022-09-12T04:55:44.649283Z"
    },
    "papermill": {
     "duration": 0.886774,
     "end_time": "2022-09-12T04:55:44.653791",
     "exception": false,
     "start_time": "2022-09-12T04:55:43.767017",
     "status": "completed"
    },
    "tags": []
   },
   "outputs": [],
   "source": [
    "random.seed(42)\n",
    "filenames = os.listdir(c) + random.sample(os.listdir(n), 5000) + os.listdir(p) + os.listdir(l)"
   ]
  },
  {
   "cell_type": "code",
   "execution_count": 4,
   "id": "e6be1ac9",
   "metadata": {
    "execution": {
     "iopub.execute_input": "2022-09-12T04:55:44.665207Z",
     "iopub.status.busy": "2022-09-12T04:55:44.664878Z",
     "iopub.status.idle": "2022-09-12T04:55:44.681371Z",
     "shell.execute_reply": "2022-09-12T04:55:44.680387Z"
    },
    "papermill": {
     "duration": 0.024433,
     "end_time": "2022-09-12T04:55:44.683440",
     "exception": false,
     "start_time": "2022-09-12T04:55:44.659007",
     "status": "completed"
    },
    "tags": []
   },
   "outputs": [],
   "source": [
    "categories = []\n",
    "for filename in filenames:\n",
    "    category = filename.split('-')[0]\n",
    "    if category == 'COVID':\n",
    "        categories.append(str(3))\n",
    "    elif category == 'Viral Pneumonia':\n",
    "        categories.append(str(2))\n",
    "    elif category == 'Lung_Opacity':\n",
    "        categories.append(str(1))\n",
    "    else:\n",
    "        categories.append(str(0))"
   ]
  },
  {
   "cell_type": "code",
   "execution_count": 5,
   "id": "545eff80",
   "metadata": {
    "execution": {
     "iopub.execute_input": "2022-09-12T04:55:44.695366Z",
     "iopub.status.busy": "2022-09-12T04:55:44.694449Z",
     "iopub.status.idle": "2022-09-12T04:55:44.733442Z",
     "shell.execute_reply": "2022-09-12T04:55:44.732515Z"
    },
    "papermill": {
     "duration": 0.047211,
     "end_time": "2022-09-12T04:55:44.735815",
     "exception": false,
     "start_time": "2022-09-12T04:55:44.688604",
     "status": "completed"
    },
    "tags": []
   },
   "outputs": [],
   "source": [
    "for i in range(len(filenames)):\n",
    "    if 'COVID' in filenames[i]:\n",
    "        filenames[i] = os.path.join(c, filenames[i])\n",
    "    elif 'Viral Pneumonia' in filenames[i]:\n",
    "        filenames[i] = os.path.join(p, filenames[i])\n",
    "    elif 'Lung_Opacity' in filenames[i]:\n",
    "        filenames[i] = os.path.join(l, filenames[i])\n",
    "    else:\n",
    "        filenames[i] = os.path.join(n, filenames[i])\n",
    "    \n",
    "    \n",
    "df = pd.DataFrame({\n",
    "    'filename': filenames,\n",
    "    'category': categories\n",
    "})"
   ]
  },
  {
   "cell_type": "code",
   "execution_count": 6,
   "id": "94733856",
   "metadata": {
    "execution": {
     "iopub.execute_input": "2022-09-12T04:55:44.748106Z",
     "iopub.status.busy": "2022-09-12T04:55:44.747194Z",
     "iopub.status.idle": "2022-09-12T04:55:44.765833Z",
     "shell.execute_reply": "2022-09-12T04:55:44.764707Z"
    },
    "papermill": {
     "duration": 0.027208,
     "end_time": "2022-09-12T04:55:44.768423",
     "exception": false,
     "start_time": "2022-09-12T04:55:44.741215",
     "status": "completed"
    },
    "tags": []
   },
   "outputs": [
    {
     "data": {
      "text/html": [
       "<div>\n",
       "<style scoped>\n",
       "    .dataframe tbody tr th:only-of-type {\n",
       "        vertical-align: middle;\n",
       "    }\n",
       "\n",
       "    .dataframe tbody tr th {\n",
       "        vertical-align: top;\n",
       "    }\n",
       "\n",
       "    .dataframe thead th {\n",
       "        text-align: right;\n",
       "    }\n",
       "</style>\n",
       "<table border=\"1\" class=\"dataframe\">\n",
       "  <thead>\n",
       "    <tr style=\"text-align: right;\">\n",
       "      <th></th>\n",
       "      <th>filename</th>\n",
       "      <th>category</th>\n",
       "    </tr>\n",
       "  </thead>\n",
       "  <tbody>\n",
       "    <tr>\n",
       "      <th>0</th>\n",
       "      <td>../input/covid19-radiography-database/COVID-19...</td>\n",
       "      <td>3</td>\n",
       "    </tr>\n",
       "    <tr>\n",
       "      <th>1</th>\n",
       "      <td>../input/covid19-radiography-database/COVID-19...</td>\n",
       "      <td>3</td>\n",
       "    </tr>\n",
       "    <tr>\n",
       "      <th>2</th>\n",
       "      <td>../input/covid19-radiography-database/COVID-19...</td>\n",
       "      <td>3</td>\n",
       "    </tr>\n",
       "    <tr>\n",
       "      <th>3</th>\n",
       "      <td>../input/covid19-radiography-database/COVID-19...</td>\n",
       "      <td>3</td>\n",
       "    </tr>\n",
       "    <tr>\n",
       "      <th>4</th>\n",
       "      <td>../input/covid19-radiography-database/COVID-19...</td>\n",
       "      <td>3</td>\n",
       "    </tr>\n",
       "  </tbody>\n",
       "</table>\n",
       "</div>"
      ],
      "text/plain": [
       "                                            filename category\n",
       "0  ../input/covid19-radiography-database/COVID-19...        3\n",
       "1  ../input/covid19-radiography-database/COVID-19...        3\n",
       "2  ../input/covid19-radiography-database/COVID-19...        3\n",
       "3  ../input/covid19-radiography-database/COVID-19...        3\n",
       "4  ../input/covid19-radiography-database/COVID-19...        3"
      ]
     },
     "execution_count": 6,
     "metadata": {},
     "output_type": "execute_result"
    }
   ],
   "source": [
    "df.head()"
   ]
  },
  {
   "cell_type": "code",
   "execution_count": 7,
   "id": "948cb5a8",
   "metadata": {
    "execution": {
     "iopub.execute_input": "2022-09-12T04:55:44.782702Z",
     "iopub.status.busy": "2022-09-12T04:55:44.781280Z",
     "iopub.status.idle": "2022-09-12T04:55:44.788323Z",
     "shell.execute_reply": "2022-09-12T04:55:44.787393Z"
    },
    "papermill": {
     "duration": 0.016021,
     "end_time": "2022-09-12T04:55:44.790296",
     "exception": false,
     "start_time": "2022-09-12T04:55:44.774275",
     "status": "completed"
    },
    "tags": []
   },
   "outputs": [
    {
     "data": {
      "text/plain": [
       "(15973, 2)"
      ]
     },
     "execution_count": 7,
     "metadata": {},
     "output_type": "execute_result"
    }
   ],
   "source": [
    "df.shape"
   ]
  },
  {
   "cell_type": "code",
   "execution_count": 8,
   "id": "b95680ba",
   "metadata": {
    "execution": {
     "iopub.execute_input": "2022-09-12T04:55:44.802250Z",
     "iopub.status.busy": "2022-09-12T04:55:44.801537Z",
     "iopub.status.idle": "2022-09-12T04:55:45.083613Z",
     "shell.execute_reply": "2022-09-12T04:55:45.082656Z"
    },
    "papermill": {
     "duration": 0.290325,
     "end_time": "2022-09-12T04:55:45.085677",
     "exception": false,
     "start_time": "2022-09-12T04:55:44.795352",
     "status": "completed"
    },
    "tags": []
   },
   "outputs": [
    {
     "data": {
      "image/png": "[encoded data removed]",
      "text/plain": [
       "<Figure size 864x216 with 1 Axes>"
      ]
     },
     "metadata": {},
     "output_type": "display_data"
    }
   ],
   "source": [
    "plt.figure(figsize=(12,3))\n",
    "splot = sns.countplot(data = df.sort_values(by='category'), y ='category', palette='cool', saturation=0.9)\n",
    "plt.bar_label(container=splot.containers[0], \n",
    "              labels=['Normal', 'Viral Pneumonia', 'COVID', 'Lung_Opacity'], \n",
    "              label_type='center', size=15, color='w')\n",
    "plt.show()"
   ]
  },
  {
   "cell_type": "code",
   "execution_count": 9,
   "id": "740c4a6d",
   "metadata": {
    "execution": {
     "iopub.execute_input": "2022-09-12T04:55:45.098192Z",
     "iopub.status.busy": "2022-09-12T04:55:45.097241Z",
     "iopub.status.idle": "2022-09-12T04:55:45.338544Z",
     "shell.execute_reply": "2022-09-12T04:55:45.337447Z"
    },
    "papermill": {
     "duration": 0.249631,
     "end_time": "2022-09-12T04:55:45.340740",
     "exception": false,
     "start_time": "2022-09-12T04:55:45.091109",
     "status": "completed"
    },
    "tags": []
   },
   "outputs": [
    {
     "data": {
      "image/png": "[encoded data removed]",
      "text/plain": [
       "<Figure size 432x288 with 1 Axes>"
      ]
     },
     "metadata": {},
     "output_type": "display_data"
    }
   ],
   "source": [
    "sample = random.choice(df['filename'])\n",
    "image = load_img(sample)\n",
    "plt.imshow(image)\n",
    "plt.show()"
   ]
  },
  {
   "cell_type": "code",
   "execution_count": 10,
   "id": "1b72b1cc",
   "metadata": {
    "execution": {
     "iopub.execute_input": "2022-09-12T04:55:45.354873Z",
     "iopub.status.busy": "2022-09-12T04:55:45.354281Z",
     "iopub.status.idle": "2022-09-12T04:55:45.375274Z",
     "shell.execute_reply": "2022-09-12T04:55:45.374399Z"
    },
    "papermill": {
     "duration": 0.030331,
     "end_time": "2022-09-12T04:55:45.377718",
     "exception": false,
     "start_time": "2022-09-12T04:55:45.347387",
     "status": "completed"
    },
    "tags": []
   },
   "outputs": [],
   "source": [
    "train_data, test_valid_data = train_test_split(df, test_size=0.2, random_state = 42, shuffle=True, stratify=df['category'])\n",
    "train_data = train_data.reset_index(drop=True)\n",
    "test_valid_data = test_valid_data.reset_index(drop=True)"
   ]
  },
  {
   "cell_type": "code",
   "execution_count": 11,
   "id": "fa269f6b",
   "metadata": {
    "execution": {
     "iopub.execute_input": "2022-09-12T04:55:45.393168Z",
     "iopub.status.busy": "2022-09-12T04:55:45.392430Z",
     "iopub.status.idle": "2022-09-12T04:55:45.403645Z",
     "shell.execute_reply": "2022-09-12T04:55:45.402798Z"
    },
    "papermill": {
     "duration": 0.021388,
     "end_time": "2022-09-12T04:55:45.405681",
     "exception": false,
     "start_time": "2022-09-12T04:55:45.384293",
     "status": "completed"
    },
    "tags": []
   },
   "outputs": [],
   "source": [
    "test_data, valid_data = train_test_split(test_valid_data, test_size=0.5, random_state = 42,\n",
    "                                         shuffle=True, stratify=test_valid_data['category'])\n",
    "test_data = test_data.reset_index(drop=True)\n",
    "valid_data = valid_data.reset_index(drop=True)"
   ]
  },
  {
   "cell_type": "code",
   "execution_count": 12,
   "id": "a944c8b8",
   "metadata": {
    "execution": {
     "iopub.execute_input": "2022-09-12T04:55:45.419446Z",
     "iopub.status.busy": "2022-09-12T04:55:45.418831Z",
     "iopub.status.idle": "2022-09-12T04:55:45.424298Z",
     "shell.execute_reply": "2022-09-12T04:55:45.423499Z"
    },
    "papermill": {
     "duration": 0.014435,
     "end_time": "2022-09-12T04:55:45.426221",
     "exception": false,
     "start_time": "2022-09-12T04:55:45.411786",
     "status": "completed"
    },
    "tags": []
   },
   "outputs": [],
   "source": [
    "train_data_gen = ImageDataGenerator(\n",
    "    rotation_range=15,\n",
    "    rescale=1./255,\n",
    "    shear_range=0.1,\n",
    "    zoom_range=0.2,\n",
    "    horizontal_flip=True,\n",
    "    width_shift_range=0.1,\n",
    "    height_shift_range=0.1\n",
    ")"
   ]
  },
  {
   "cell_type": "code",
   "execution_count": 13,
   "id": "d24b58a8",
   "metadata": {
    "execution": {
     "iopub.execute_input": "2022-09-12T04:55:45.439144Z",
     "iopub.status.busy": "2022-09-12T04:55:45.438874Z",
     "iopub.status.idle": "2022-09-12T04:55:57.672026Z",
     "shell.execute_reply": "2022-09-12T04:55:57.670337Z"
    },
    "papermill": {
     "duration": 12.242741,
     "end_time": "2022-09-12T04:55:57.674770",
     "exception": false,
     "start_time": "2022-09-12T04:55:45.432029",
     "status": "completed"
    },
    "tags": []
   },
   "outputs": [
    {
     "name": "stdout",
     "output_type": "stream",
     "text": [
      "Found 12778 validated image filenames belonging to 4 classes.\n"
     ]
    }
   ],
   "source": [
    "train_generator = train_data_gen.flow_from_dataframe(\n",
    "    train_data, \n",
    "    x_col='filename',\n",
    "    y_col='category',\n",
    "    target_size=(256,256),\n",
    "    class_mode='categorical',\n",
    "    batch_size=32\n",
    ")"
   ]
  },
  {
   "cell_type": "code",
   "execution_count": 14,
   "id": "aa5c4986",
   "metadata": {
    "execution": {
     "iopub.execute_input": "2022-09-12T04:55:57.689114Z",
     "iopub.status.busy": "2022-09-12T04:55:57.688800Z",
     "iopub.status.idle": "2022-09-12T04:55:59.343058Z",
     "shell.execute_reply": "2022-09-12T04:55:59.341763Z"
    },
    "papermill": {
     "duration": 1.663641,
     "end_time": "2022-09-12T04:55:59.345230",
     "exception": false,
     "start_time": "2022-09-12T04:55:57.681589",
     "status": "completed"
    },
    "tags": []
   },
   "outputs": [
    {
     "name": "stdout",
     "output_type": "stream",
     "text": [
      "Found 1598 validated image filenames belonging to 4 classes.\n"
     ]
    }
   ],
   "source": [
    "valid_data_gen = ImageDataGenerator(rescale=1./255)\n",
    "\n",
    "valid_generator = valid_data_gen.flow_from_dataframe(\n",
    "    valid_data, \n",
    "    x_col='filename',\n",
    "    y_col='category',\n",
    "    target_size=(256,256),\n",
    "    class_mode='categorical',\n",
    "    batch_size=32\n",
    ")"
   ]
  },
  {
   "cell_type": "code",
   "execution_count": 15,
   "id": "49100e19",
   "metadata": {
    "execution": {
     "iopub.execute_input": "2022-09-12T04:55:59.359627Z",
     "iopub.status.busy": "2022-09-12T04:55:59.359011Z",
     "iopub.status.idle": "2022-09-12T04:56:04.243130Z",
     "shell.execute_reply": "2022-09-12T04:56:04.242074Z"
    },
    "papermill": {
     "duration": 4.893566,
     "end_time": "2022-09-12T04:56:04.245520",
     "exception": false,
     "start_time": "2022-09-12T04:55:59.351954",
     "status": "completed"
    },
    "tags": []
   },
   "outputs": [
    {
     "name": "stderr",
     "output_type": "stream",
     "text": [
      "2022-09-12 04:55:59.468370: I tensorflow/stream_executor/cuda/cuda_gpu_executor.cc:937] successful NUMA node read from SysFS had negative value (-1), but there must be at least one NUMA node, so returning NUMA node zero\n",
      "2022-09-12 04:55:59.592991: I tensorflow/stream_executor/cuda/cuda_gpu_executor.cc:937] successful NUMA node read from SysFS had negative value (-1), but there must be at least one NUMA node, so returning NUMA node zero\n",
      "2022-09-12 04:55:59.593825: I tensorflow/stream_executor/cuda/cuda_gpu_executor.cc:937] successful NUMA node read from SysFS had negative value (-1), but there must be at least one NUMA node, so returning NUMA node zero\n",
      "2022-09-12 04:55:59.595184: I tensorflow/core/platform/cpu_feature_guard.cc:142] This TensorFlow binary is optimized with oneAPI Deep Neural Network Library (oneDNN) to use the following CPU instructions in performance-critical operations:  AVX2 AVX512F FMA\n",
      "To enable them in other operations, rebuild TensorFlow with the appropriate compiler flags.\n",
      "2022-09-12 04:55:59.595571: I tensorflow/stream_executor/cuda/cuda_gpu_executor.cc:937] successful NUMA node read from SysFS had negative value (-1), but there must be at least one NUMA node, so returning NUMA node zero\n",
      "2022-09-12 04:55:59.596290: I tensorflow/stream_executor/cuda/cuda_gpu_executor.cc:937] successful NUMA node read from SysFS had negative value (-1), but there must be at least one NUMA node, so returning NUMA node zero\n",
      "2022-09-12 04:55:59.597044: I tensorflow/stream_executor/cuda/cuda_gpu_executor.cc:937] successful NUMA node read from SysFS had negative value (-1), but there must be at least one NUMA node, so returning NUMA node zero\n",
      "2022-09-12 04:56:01.999163: I tensorflow/stream_executor/cuda/cuda_gpu_executor.cc:937] successful NUMA node read from SysFS had negative value (-1), but there must be at least one NUMA node, so returning NUMA node zero\n",
      "2022-09-12 04:56:02.000065: I tensorflow/stream_executor/cuda/cuda_gpu_executor.cc:937] successful NUMA node read from SysFS had negative value (-1), but there must be at least one NUMA node, so returning NUMA node zero\n",
      "2022-09-12 04:56:02.000780: I tensorflow/stream_executor/cuda/cuda_gpu_executor.cc:937] successful NUMA node read from SysFS had negative value (-1), but there must be at least one NUMA node, so returning NUMA node zero\n",
      "2022-09-12 04:56:02.001382: I tensorflow/core/common_runtime/gpu/gpu_device.cc:1510] Created device /job:localhost/replica:0/task:0/device:GPU:0 with 15401 MB memory:  -> device: 0, name: Tesla P100-PCIE-16GB, pci bus id: 0000:00:04.0, compute capability: 6.0\n"
     ]
    },
    {
     "name": "stdout",
     "output_type": "stream",
     "text": [
      "Downloading data from https://storage.googleapis.com/tensorflow/keras-applications/xception/xception_weights_tf_dim_ordering_tf_kernels_notop.h5\n",
      "83689472/83683744 [==============================] - 0s 0us/step\n",
      "83697664/83683744 [==============================] - 0s 0us/step\n"
     ]
    }
   ],
   "source": [
    "engine = tf.keras.applications.Xception(\n",
    "        # Freezing the weights of the top layer in the InceptionResNetV2 pre-traiined model\n",
    "        include_top = False,\n",
    "\n",
    "        # Use Imagenet weights\n",
    "        weights = 'imagenet',\n",
    "\n",
    "        # Define input shape to 256x256x3\n",
    "        input_shape = (256 , 256 , 3),\n",
    "\n",
    "    )\n",
    "    \n",
    "x = tf.keras.layers.GlobalAveragePooling2D(name = 'avg_pool')(engine.output)\n",
    "x =tf.keras.layers.Dropout(0.75)(x)\n",
    "x = tf.keras.layers.BatchNormalization(\n",
    "                      axis=-1,\n",
    "                      momentum=0.99,\n",
    "                      epsilon=0.01,\n",
    "                      center=True,\n",
    "                      scale=True,\n",
    "                      beta_initializer=\"zeros\",\n",
    "                      gamma_initializer=\"ones\",\n",
    "                      moving_mean_initializer=\"zeros\",\n",
    "                      moving_variance_initializer=\"ones\",\n",
    "                  )(x)\n",
    "out = tf.keras.layers.Dense(4, activation = 'softmax', name = 'dense_output')(x)\n",
    "\n",
    "\n",
    "    # Build the Keras model\n",
    "model = tf.keras.models.Model(inputs = engine.input, outputs = out)\n",
    "    # Compile the model\n",
    "\n",
    "model.compile(\n",
    "        # Set optimizer to Adam(0.0001)\n",
    "        optimizer = tf.keras.optimizers.Adam(learning_rate= 3e-4),\n",
    "        #optimizer= SGD(lr=0.001, decay=1e-6, momentum=0.99, nesterov=True),\n",
    "        # Set loss to binary crossentropy\n",
    "        #loss = tf.keras.losses.SparseCategoricalCrossentropy(),\n",
    "        loss = 'categorical_crossentropy',\n",
    "        # Set metrics to accuracy\n",
    "        metrics = ['accuracy']\n",
    "    )"
   ]
  },
  {
   "cell_type": "code",
   "execution_count": 16,
   "id": "5e4c3d1f",
   "metadata": {
    "execution": {
     "iopub.execute_input": "2022-09-12T04:56:04.261300Z",
     "iopub.status.busy": "2022-09-12T04:56:04.260946Z",
     "iopub.status.idle": "2022-09-12T04:56:04.282493Z",
     "shell.execute_reply": "2022-09-12T04:56:04.281607Z"
    },
    "papermill": {
     "duration": 0.034331,
     "end_time": "2022-09-12T04:56:04.287285",
     "exception": false,
     "start_time": "2022-09-12T04:56:04.252954",
     "status": "completed"
    },
    "tags": []
   },
   "outputs": [
    {
     "name": "stdout",
     "output_type": "stream",
     "text": [
      "Model: \"model\"\n",
      "__________________________________________________________________________________________________\n",
      "Layer (type)                    Output Shape         Param #     Connected to                     \n",
      "==================================================================================================\n",
      "input_1 (InputLayer)            [(None, 256, 256, 3) 0                                            \n",
      "__________________________________________________________________________________________________\n",
      "block1_conv1 (Conv2D)           (None, 127, 127, 32) 864         input_1[0][0]                    \n",
      "__________________________________________________________________________________________________\n",
      "block1_conv1_bn (BatchNormaliza (None, 127, 127, 32) 128         block1_conv1[0][0]               \n",
      "__________________________________________________________________________________________________\n",
      "block1_conv1_act (Activation)   (None, 127, 127, 32) 0           block1_conv1_bn[0][0]            \n",
      "__________________________________________________________________________________________________\n",
      "block1_conv2 (Conv2D)           (None, 125, 125, 64) 18432       block1_conv1_act[0][0]           \n",
      "__________________________________________________________________________________________________\n",
      "block1_conv2_bn (BatchNormaliza (None, 125, 125, 64) 256         block1_conv2[0][0]               \n",
      "__________________________________________________________________________________________________\n",
      "block1_conv2_act (Activation)   (None, 125, 125, 64) 0           block1_conv2_bn[0][0]            \n",
      "__________________________________________________________________________________________________\n",
      "block2_sepconv1 (SeparableConv2 (None, 125, 125, 128 8768        block1_conv2_act[0][0]           \n",
      "__________________________________________________________________________________________________\n",
      "block2_sepconv1_bn (BatchNormal (None, 125, 125, 128 512         block2_sepconv1[0][0]            \n",
      "__________________________________________________________________________________________________\n",
      "block2_sepconv2_act (Activation (None, 125, 125, 128 0           block2_sepconv1_bn[0][0]         \n",
      "__________________________________________________________________________________________________\n",
      "block2_sepconv2 (SeparableConv2 (None, 125, 125, 128 17536       block2_sepconv2_act[0][0]        \n",
      "__________________________________________________________________________________________________\n",
      "block2_sepconv2_bn (BatchNormal (None, 125, 125, 128 512         block2_sepconv2[0][0]            \n",
      "__________________________________________________________________________________________________\n",
      "conv2d (Conv2D)                 (None, 63, 63, 128)  8192        block1_conv2_act[0][0]           \n",
      "__________________________________________________________________________________________________\n",
      "block2_pool (MaxPooling2D)      (None, 63, 63, 128)  0           block2_sepconv2_bn[0][0]         \n",
      "__________________________________________________________________________________________________\n",
      "batch_normalization (BatchNorma (None, 63, 63, 128)  512         conv2d[0][0]                     \n",
      "__________________________________________________________________________________________________\n",
      "add (Add)                       (None, 63, 63, 128)  0           block2_pool[0][0]                \n",
      "                                                                 batch_normalization[0][0]        \n",
      "__________________________________________________________________________________________________\n",
      "block3_sepconv1_act (Activation (None, 63, 63, 128)  0           add[0][0]                        \n",
      "__________________________________________________________________________________________________\n",
      "block3_sepconv1 (SeparableConv2 (None, 63, 63, 256)  33920       block3_sepconv1_act[0][0]        \n",
      "__________________________________________________________________________________________________\n",
      "block3_sepconv1_bn (BatchNormal (None, 63, 63, 256)  1024        block3_sepconv1[0][0]            \n",
      "__________________________________________________________________________________________________\n",
      "block3_sepconv2_act (Activation (None, 63, 63, 256)  0           block3_sepconv1_bn[0][0]         \n",
      "__________________________________________________________________________________________________\n",
      "block3_sepconv2 (SeparableConv2 (None, 63, 63, 256)  67840       block3_sepconv2_act[0][0]        \n",
      "__________________________________________________________________________________________________\n",
      "block3_sepconv2_bn (BatchNormal (None, 63, 63, 256)  1024        block3_sepconv2[0][0]            \n",
      "__________________________________________________________________________________________________\n",
      "conv2d_1 (Conv2D)               (None, 32, 32, 256)  32768       add[0][0]                        \n",
      "__________________________________________________________________________________________________\n",
      "block3_pool (MaxPooling2D)      (None, 32, 32, 256)  0           block3_sepconv2_bn[0][0]         \n",
      "__________________________________________________________________________________________________\n",
      "batch_normalization_1 (BatchNor (None, 32, 32, 256)  1024        conv2d_1[0][0]                   \n",
      "__________________________________________________________________________________________________\n",
      "add_1 (Add)                     (None, 32, 32, 256)  0           block3_pool[0][0]                \n",
      "                                                                 batch_normalization_1[0][0]      \n",
      "__________________________________________________________________________________________________\n",
      "block4_sepconv1_act (Activation (None, 32, 32, 256)  0           add_1[0][0]                      \n",
      "__________________________________________________________________________________________________\n",
      "block4_sepconv1 (SeparableConv2 (None, 32, 32, 728)  188672      block4_sepconv1_act[0][0]        \n",
      "__________________________________________________________________________________________________\n",
      "block4_sepconv1_bn (BatchNormal (None, 32, 32, 728)  2912        block4_sepconv1[0][0]            \n",
      "__________________________________________________________________________________________________\n",
      "block4_sepconv2_act (Activation (None, 32, 32, 728)  0           block4_sepconv1_bn[0][0]         \n",
      "__________________________________________________________________________________________________\n",
      "block4_sepconv2 (SeparableConv2 (None, 32, 32, 728)  536536      block4_sepconv2_act[0][0]        \n",
      "__________________________________________________________________________________________________\n",
      "block4_sepconv2_bn (BatchNormal (None, 32, 32, 728)  2912        block4_sepconv2[0][0]            \n",
      "__________________________________________________________________________________________________\n",
      "conv2d_2 (Conv2D)               (None, 16, 16, 728)  186368      add_1[0][0]                      \n",
      "__________________________________________________________________________________________________\n",
      "block4_pool (MaxPooling2D)      (None, 16, 16, 728)  0           block4_sepconv2_bn[0][0]         \n",
      "__________________________________________________________________________________________________\n",
      "batch_normalization_2 (BatchNor (None, 16, 16, 728)  2912        conv2d_2[0][0]                   \n",
      "__________________________________________________________________________________________________\n",
      "add_2 (Add)                     (None, 16, 16, 728)  0           block4_pool[0][0]                \n",
      "                                                                 batch_normalization_2[0][0]      \n",
      "__________________________________________________________________________________________________\n",
      "block5_sepconv1_act (Activation (None, 16, 16, 728)  0           add_2[0][0]                      \n",
      "__________________________________________________________________________________________________\n",
      "block5_sepconv1 (SeparableConv2 (None, 16, 16, 728)  536536      block5_sepconv1_act[0][0]        \n",
      "__________________________________________________________________________________________________\n",
      "block5_sepconv1_bn (BatchNormal (None, 16, 16, 728)  2912        block5_sepconv1[0][0]            \n",
      "__________________________________________________________________________________________________\n",
      "block5_sepconv2_act (Activation (None, 16, 16, 728)  0           block5_sepconv1_bn[0][0]         \n",
      "__________________________________________________________________________________________________\n",
      "block5_sepconv2 (SeparableConv2 (None, 16, 16, 728)  536536      block5_sepconv2_act[0][0]        \n",
      "__________________________________________________________________________________________________\n",
      "block5_sepconv2_bn (BatchNormal (None, 16, 16, 728)  2912        block5_sepconv2[0][0]            \n",
      "__________________________________________________________________________________________________\n",
      "block5_sepconv3_act (Activation (None, 16, 16, 728)  0           block5_sepconv2_bn[0][0]         \n",
      "__________________________________________________________________________________________________\n",
      "block5_sepconv3 (SeparableConv2 (None, 16, 16, 728)  536536      block5_sepconv3_act[0][0]        \n",
      "__________________________________________________________________________________________________\n",
      "block5_sepconv3_bn (BatchNormal (None, 16, 16, 728)  2912        block5_sepconv3[0][0]            \n",
      "__________________________________________________________________________________________________\n",
      "add_3 (Add)                     (None, 16, 16, 728)  0           block5_sepconv3_bn[0][0]         \n",
      "                                                                 add_2[0][0]                      \n",
      "__________________________________________________________________________________________________\n",
      "block6_sepconv1_act (Activation (None, 16, 16, 728)  0           add_3[0][0]                      \n",
      "__________________________________________________________________________________________________\n",
      "block6_sepconv1 (SeparableConv2 (None, 16, 16, 728)  536536      block6_sepconv1_act[0][0]        \n",
      "__________________________________________________________________________________________________\n",
      "block6_sepconv1_bn (BatchNormal (None, 16, 16, 728)  2912        block6_sepconv1[0][0]            \n",
      "__________________________________________________________________________________________________\n",
      "block6_sepconv2_act (Activation (None, 16, 16, 728)  0           block6_sepconv1_bn[0][0]         \n",
      "__________________________________________________________________________________________________\n",
      "block6_sepconv2 (SeparableConv2 (None, 16, 16, 728)  536536      block6_sepconv2_act[0][0]        \n",
      "__________________________________________________________________________________________________\n",
      "block6_sepconv2_bn (BatchNormal (None, 16, 16, 728)  2912        block6_sepconv2[0][0]            \n",
      "__________________________________________________________________________________________________\n",
      "block6_sepconv3_act (Activation (None, 16, 16, 728)  0           block6_sepconv2_bn[0][0]         \n",
      "__________________________________________________________________________________________________\n",
      "block6_sepconv3 (SeparableConv2 (None, 16, 16, 728)  536536      block6_sepconv3_act[0][0]        \n",
      "__________________________________________________________________________________________________\n",
      "block6_sepconv3_bn (BatchNormal (None, 16, 16, 728)  2912        block6_sepconv3[0][0]            \n",
      "__________________________________________________________________________________________________\n",
      "add_4 (Add)                     (None, 16, 16, 728)  0           block6_sepconv3_bn[0][0]         \n",
      "                                                                 add_3[0][0]                      \n",
      "__________________________________________________________________________________________________\n",
      "block7_sepconv1_act (Activation (None, 16, 16, 728)  0           add_4[0][0]                      \n",
      "__________________________________________________________________________________________________\n",
      "block7_sepconv1 (SeparableConv2 (None, 16, 16, 728)  536536      block7_sepconv1_act[0][0]        \n",
      "__________________________________________________________________________________________________\n",
      "block7_sepconv1_bn (BatchNormal (None, 16, 16, 728)  2912        block7_sepconv1[0][0]            \n",
      "__________________________________________________________________________________________________\n",
      "block7_sepconv2_act (Activation (None, 16, 16, 728)  0           block7_sepconv1_bn[0][0]         \n",
      "__________________________________________________________________________________________________\n",
      "block7_sepconv2 (SeparableConv2 (None, 16, 16, 728)  536536      block7_sepconv2_act[0][0]        \n",
      "__________________________________________________________________________________________________\n",
      "block7_sepconv2_bn (BatchNormal (None, 16, 16, 728)  2912        block7_sepconv2[0][0]            \n",
      "__________________________________________________________________________________________________\n",
      "block7_sepconv3_act (Activation (None, 16, 16, 728)  0           block7_sepconv2_bn[0][0]         \n",
      "__________________________________________________________________________________________________\n",
      "block7_sepconv3 (SeparableConv2 (None, 16, 16, 728)  536536      block7_sepconv3_act[0][0]        \n",
      "__________________________________________________________________________________________________\n",
      "block7_sepconv3_bn (BatchNormal (None, 16, 16, 728)  2912        block7_sepconv3[0][0]            \n",
      "__________________________________________________________________________________________________\n",
      "add_5 (Add)                     (None, 16, 16, 728)  0           block7_sepconv3_bn[0][0]         \n",
      "                                                                 add_4[0][0]                      \n",
      "__________________________________________________________________________________________________\n",
      "block8_sepconv1_act (Activation (None, 16, 16, 728)  0           add_5[0][0]                      \n",
      "__________________________________________________________________________________________________\n",
      "block8_sepconv1 (SeparableConv2 (None, 16, 16, 728)  536536      block8_sepconv1_act[0][0]        \n",
      "__________________________________________________________________________________________________\n",
      "block8_sepconv1_bn (BatchNormal (None, 16, 16, 728)  2912        block8_sepconv1[0][0]            \n",
      "__________________________________________________________________________________________________\n",
      "block8_sepconv2_act (Activation (None, 16, 16, 728)  0           block8_sepconv1_bn[0][0]         \n",
      "__________________________________________________________________________________________________\n",
      "block8_sepconv2 (SeparableConv2 (None, 16, 16, 728)  536536      block8_sepconv2_act[0][0]        \n",
      "__________________________________________________________________________________________________\n",
      "block8_sepconv2_bn (BatchNormal (None, 16, 16, 728)  2912        block8_sepconv2[0][0]            \n",
      "__________________________________________________________________________________________________\n",
      "block8_sepconv3_act (Activation (None, 16, 16, 728)  0           block8_sepconv2_bn[0][0]         \n",
      "__________________________________________________________________________________________________\n",
      "block8_sepconv3 (SeparableConv2 (None, 16, 16, 728)  536536      block8_sepconv3_act[0][0]        \n",
      "__________________________________________________________________________________________________\n",
      "block8_sepconv3_bn (BatchNormal (None, 16, 16, 728)  2912        block8_sepconv3[0][0]            \n",
      "__________________________________________________________________________________________________\n",
      "add_6 (Add)                     (None, 16, 16, 728)  0           block8_sepconv3_bn[0][0]         \n",
      "                                                                 add_5[0][0]                      \n",
      "__________________________________________________________________________________________________\n",
      "block9_sepconv1_act (Activation (None, 16, 16, 728)  0           add_6[0][0]                      \n",
      "__________________________________________________________________________________________________\n",
      "block9_sepconv1 (SeparableConv2 (None, 16, 16, 728)  536536      block9_sepconv1_act[0][0]        \n",
      "__________________________________________________________________________________________________\n",
      "block9_sepconv1_bn (BatchNormal (None, 16, 16, 728)  2912        block9_sepconv1[0][0]            \n",
      "__________________________________________________________________________________________________\n",
      "block9_sepconv2_act (Activation (None, 16, 16, 728)  0           block9_sepconv1_bn[0][0]         \n",
      "__________________________________________________________________________________________________\n",
      "block9_sepconv2 (SeparableConv2 (None, 16, 16, 728)  536536      block9_sepconv2_act[0][0]        \n",
      "__________________________________________________________________________________________________\n",
      "block9_sepconv2_bn (BatchNormal (None, 16, 16, 728)  2912        block9_sepconv2[0][0]            \n",
      "__________________________________________________________________________________________________\n",
      "block9_sepconv3_act (Activation (None, 16, 16, 728)  0           block9_sepconv2_bn[0][0]         \n",
      "__________________________________________________________________________________________________\n",
      "block9_sepconv3 (SeparableConv2 (None, 16, 16, 728)  536536      block9_sepconv3_act[0][0]        \n",
      "__________________________________________________________________________________________________\n",
      "block9_sepconv3_bn (BatchNormal (None, 16, 16, 728)  2912        block9_sepconv3[0][0]            \n",
      "__________________________________________________________________________________________________\n",
      "add_7 (Add)                     (None, 16, 16, 728)  0           block9_sepconv3_bn[0][0]         \n",
      "                                                                 add_6[0][0]                      \n",
      "__________________________________________________________________________________________________\n",
      "block10_sepconv1_act (Activatio (None, 16, 16, 728)  0           add_7[0][0]                      \n",
      "__________________________________________________________________________________________________\n",
      "block10_sepconv1 (SeparableConv (None, 16, 16, 728)  536536      block10_sepconv1_act[0][0]       \n",
      "__________________________________________________________________________________________________\n",
      "block10_sepconv1_bn (BatchNorma (None, 16, 16, 728)  2912        block10_sepconv1[0][0]           \n",
      "__________________________________________________________________________________________________\n",
      "block10_sepconv2_act (Activatio (None, 16, 16, 728)  0           block10_sepconv1_bn[0][0]        \n",
      "__________________________________________________________________________________________________\n",
      "block10_sepconv2 (SeparableConv (None, 16, 16, 728)  536536      block10_sepconv2_act[0][0]       \n",
      "__________________________________________________________________________________________________\n",
      "block10_sepconv2_bn (BatchNorma (None, 16, 16, 728)  2912        block10_sepconv2[0][0]           \n",
      "__________________________________________________________________________________________________\n",
      "block10_sepconv3_act (Activatio (None, 16, 16, 728)  0           block10_sepconv2_bn[0][0]        \n",
      "__________________________________________________________________________________________________\n",
      "block10_sepconv3 (SeparableConv (None, 16, 16, 728)  536536      block10_sepconv3_act[0][0]       \n",
      "__________________________________________________________________________________________________\n",
      "block10_sepconv3_bn (BatchNorma (None, 16, 16, 728)  2912        block10_sepconv3[0][0]           \n",
      "__________________________________________________________________________________________________\n",
      "add_8 (Add)                     (None, 16, 16, 728)  0           block10_sepconv3_bn[0][0]        \n",
      "                                                                 add_7[0][0]                      \n",
      "__________________________________________________________________________________________________\n",
      "block11_sepconv1_act (Activatio (None, 16, 16, 728)  0           add_8[0][0]                      \n",
      "__________________________________________________________________________________________________\n",
      "block11_sepconv1 (SeparableConv (None, 16, 16, 728)  536536      block11_sepconv1_act[0][0]       \n",
      "__________________________________________________________________________________________________\n",
      "block11_sepconv1_bn (BatchNorma (None, 16, 16, 728)  2912        block11_sepconv1[0][0]           \n",
      "__________________________________________________________________________________________________\n",
      "block11_sepconv2_act (Activatio (None, 16, 16, 728)  0           block11_sepconv1_bn[0][0]        \n",
      "__________________________________________________________________________________________________\n",
      "block11_sepconv2 (SeparableConv (None, 16, 16, 728)  536536      block11_sepconv2_act[0][0]       \n",
      "__________________________________________________________________________________________________\n",
      "block11_sepconv2_bn (BatchNorma (None, 16, 16, 728)  2912        block11_sepconv2[0][0]           \n",
      "__________________________________________________________________________________________________\n",
      "block11_sepconv3_act (Activatio (None, 16, 16, 728)  0           block11_sepconv2_bn[0][0]        \n",
      "__________________________________________________________________________________________________\n",
      "block11_sepconv3 (SeparableConv (None, 16, 16, 728)  536536      block11_sepconv3_act[0][0]       \n",
      "__________________________________________________________________________________________________\n",
      "block11_sepconv3_bn (BatchNorma (None, 16, 16, 728)  2912        block11_sepconv3[0][0]           \n",
      "__________________________________________________________________________________________________\n",
      "add_9 (Add)                     (None, 16, 16, 728)  0           block11_sepconv3_bn[0][0]        \n",
      "                                                                 add_8[0][0]                      \n",
      "__________________________________________________________________________________________________\n",
      "block12_sepconv1_act (Activatio (None, 16, 16, 728)  0           add_9[0][0]                      \n",
      "__________________________________________________________________________________________________\n",
      "block12_sepconv1 (SeparableConv (None, 16, 16, 728)  536536      block12_sepconv1_act[0][0]       \n",
      "__________________________________________________________________________________________________\n",
      "block12_sepconv1_bn (BatchNorma (None, 16, 16, 728)  2912        block12_sepconv1[0][0]           \n",
      "__________________________________________________________________________________________________\n",
      "block12_sepconv2_act (Activatio (None, 16, 16, 728)  0           block12_sepconv1_bn[0][0]        \n",
      "__________________________________________________________________________________________________\n",
      "block12_sepconv2 (SeparableConv (None, 16, 16, 728)  536536      block12_sepconv2_act[0][0]       \n",
      "__________________________________________________________________________________________________\n",
      "block12_sepconv2_bn (BatchNorma (None, 16, 16, 728)  2912        block12_sepconv2[0][0]           \n",
      "__________________________________________________________________________________________________\n",
      "block12_sepconv3_act (Activatio (None, 16, 16, 728)  0           block12_sepconv2_bn[0][0]        \n",
      "__________________________________________________________________________________________________\n",
      "block12_sepconv3 (SeparableConv (None, 16, 16, 728)  536536      block12_sepconv3_act[0][0]       \n",
      "__________________________________________________________________________________________________\n",
      "block12_sepconv3_bn (BatchNorma (None, 16, 16, 728)  2912        block12_sepconv3[0][0]           \n",
      "__________________________________________________________________________________________________\n",
      "add_10 (Add)                    (None, 16, 16, 728)  0           block12_sepconv3_bn[0][0]        \n",
      "                                                                 add_9[0][0]                      \n",
      "__________________________________________________________________________________________________\n",
      "block13_sepconv1_act (Activatio (None, 16, 16, 728)  0           add_10[0][0]                     \n",
      "__________________________________________________________________________________________________\n",
      "block13_sepconv1 (SeparableConv (None, 16, 16, 728)  536536      block13_sepconv1_act[0][0]       \n",
      "__________________________________________________________________________________________________\n",
      "block13_sepconv1_bn (BatchNorma (None, 16, 16, 728)  2912        block13_sepconv1[0][0]           \n",
      "__________________________________________________________________________________________________\n",
      "block13_sepconv2_act (Activatio (None, 16, 16, 728)  0           block13_sepconv1_bn[0][0]        \n",
      "__________________________________________________________________________________________________\n",
      "block13_sepconv2 (SeparableConv (None, 16, 16, 1024) 752024      block13_sepconv2_act[0][0]       \n",
      "__________________________________________________________________________________________________\n",
      "block13_sepconv2_bn (BatchNorma (None, 16, 16, 1024) 4096        block13_sepconv2[0][0]           \n",
      "__________________________________________________________________________________________________\n",
      "conv2d_3 (Conv2D)               (None, 8, 8, 1024)   745472      add_10[0][0]                     \n",
      "__________________________________________________________________________________________________\n",
      "block13_pool (MaxPooling2D)     (None, 8, 8, 1024)   0           block13_sepconv2_bn[0][0]        \n",
      "__________________________________________________________________________________________________\n",
      "batch_normalization_3 (BatchNor (None, 8, 8, 1024)   4096        conv2d_3[0][0]                   \n",
      "__________________________________________________________________________________________________\n",
      "add_11 (Add)                    (None, 8, 8, 1024)   0           block13_pool[0][0]               \n",
      "                                                                 batch_normalization_3[0][0]      \n",
      "__________________________________________________________________________________________________\n",
      "block14_sepconv1 (SeparableConv (None, 8, 8, 1536)   1582080     add_11[0][0]                     \n",
      "__________________________________________________________________________________________________\n",
      "block14_sepconv1_bn (BatchNorma (None, 8, 8, 1536)   6144        block14_sepconv1[0][0]           \n",
      "__________________________________________________________________________________________________\n",
      "block14_sepconv1_act (Activatio (None, 8, 8, 1536)   0           block14_sepconv1_bn[0][0]        \n",
      "__________________________________________________________________________________________________\n",
      "block14_sepconv2 (SeparableConv (None, 8, 8, 2048)   3159552     block14_sepconv1_act[0][0]       \n",
      "__________________________________________________________________________________________________\n",
      "block14_sepconv2_bn (BatchNorma (None, 8, 8, 2048)   8192        block14_sepconv2[0][0]           \n",
      "__________________________________________________________________________________________________\n",
      "block14_sepconv2_act (Activatio (None, 8, 8, 2048)   0           block14_sepconv2_bn[0][0]        \n",
      "__________________________________________________________________________________________________\n",
      "avg_pool (GlobalAveragePooling2 (None, 2048)         0           block14_sepconv2_act[0][0]       \n",
      "__________________________________________________________________________________________________\n",
      "dropout (Dropout)               (None, 2048)         0           avg_pool[0][0]                   \n",
      "__________________________________________________________________________________________________\n",
      "batch_normalization_4 (BatchNor (None, 2048)         8192        dropout[0][0]                    \n",
      "__________________________________________________________________________________________________\n",
      "dense_output (Dense)            (None, 4)            8196        batch_normalization_4[0][0]      \n",
      "==================================================================================================\n",
      "Total params: 20,877,868\n",
      "Trainable params: 20,819,244\n",
      "Non-trainable params: 58,624\n",
      "__________________________________________________________________________________________________\n"
     ]
    }
   ],
   "source": [
    "model.summary()"
   ]
  },
  {
   "cell_type": "code",
   "execution_count": 17,
   "id": "cae8205c",
   "metadata": {
    "execution": {
     "iopub.execute_input": "2022-09-12T04:56:04.305033Z",
     "iopub.status.busy": "2022-09-12T04:56:04.304740Z",
     "iopub.status.idle": "2022-09-12T04:56:04.310305Z",
     "shell.execute_reply": "2022-09-12T04:56:04.309356Z"
    },
    "papermill": {
     "duration": 0.015967,
     "end_time": "2022-09-12T04:56:04.312542",
     "exception": false,
     "start_time": "2022-09-12T04:56:04.296575",
     "status": "completed"
    },
    "tags": []
   },
   "outputs": [],
   "source": [
    "early_stopping = tf.keras.callbacks.EarlyStopping(monitor='loss', patience=3)\n",
    "learning_rate_reduction = keras.callbacks.ReduceLROnPlateau(monitor='val_accuracy',\n",
    "                                                            patience=2,\n",
    "                                                            verbose=2,\n",
    "                                                            factor=0.5,\n",
    "                                                            min_lr=0.00001)\n",
    "reduce_lr =  keras.callbacks.ReduceLROnPlateau(monitor='val_loss', factor=0.5,\n",
    "                              patience=3, min_lr=0.00001)"
   ]
  },
  {
   "cell_type": "code",
   "execution_count": 18,
   "id": "083c758e",
   "metadata": {
    "execution": {
     "iopub.execute_input": "2022-09-12T04:56:04.329724Z",
     "iopub.status.busy": "2022-09-12T04:56:04.328308Z",
     "iopub.status.idle": "2022-09-12T06:30:39.410734Z",
     "shell.execute_reply": "2022-09-12T06:30:39.409714Z"
    },
    "papermill": {
     "duration": 5675.09325,
     "end_time": "2022-09-12T06:30:39.413045",
     "exception": false,
     "start_time": "2022-09-12T04:56:04.319795",
     "status": "completed"
    },
    "tags": []
   },
   "outputs": [
    {
     "name": "stderr",
     "output_type": "stream",
     "text": [
      "2022-09-12 04:56:05.049976: I tensorflow/compiler/mlir/mlir_graph_optimization_pass.cc:185] None of the MLIR Optimization Passes are enabled (registered 2)\n"
     ]
    },
    {
     "name": "stdout",
     "output_type": "stream",
     "text": [
      "Epoch 1/20\n"
     ]
    },
    {
     "name": "stderr",
     "output_type": "stream",
     "text": [
      "2022-09-12 04:56:10.796731: I tensorflow/stream_executor/cuda/cuda_dnn.cc:369] Loaded cuDNN version 8005\n"
     ]
    },
    {
     "name": "stdout",
     "output_type": "stream",
     "text": [
      "400/400 [==============================] - 339s 818ms/step - loss: 0.4278 - accuracy: 0.8459 - val_loss: 0.5268 - val_accuracy: 0.7622\n",
      "Epoch 2/20\n",
      "400/400 [==============================] - 277s 692ms/step - loss: 0.2423 - accuracy: 0.9154 - val_loss: 0.5555 - val_accuracy: 0.8217\n",
      "Epoch 3/20\n",
      "400/400 [==============================] - 278s 695ms/step - loss: 0.2015 - accuracy: 0.9271 - val_loss: 0.2134 - val_accuracy: 0.9249\n",
      "Epoch 4/20\n",
      "400/400 [==============================] - 278s 694ms/step - loss: 0.1821 - accuracy: 0.9369 - val_loss: 0.1795 - val_accuracy: 0.9312\n",
      "Epoch 5/20\n",
      "400/400 [==============================] - 282s 704ms/step - loss: 0.1696 - accuracy: 0.9404 - val_loss: 0.1873 - val_accuracy: 0.9287\n",
      "Epoch 6/20\n",
      "400/400 [==============================] - 277s 691ms/step - loss: 0.1555 - accuracy: 0.9457 - val_loss: 0.1615 - val_accuracy: 0.9456\n",
      "Epoch 7/20\n",
      "400/400 [==============================] - 277s 690ms/step - loss: 0.1399 - accuracy: 0.9512 - val_loss: 0.4869 - val_accuracy: 0.8298\n",
      "Epoch 8/20\n",
      "400/400 [==============================] - 278s 695ms/step - loss: 0.1415 - accuracy: 0.9501 - val_loss: 1.9009 - val_accuracy: 0.5826\n",
      "\n",
      "Epoch 00008: ReduceLROnPlateau reducing learning rate to 0.0001500000071246177.\n",
      "Epoch 9/20\n",
      "400/400 [==============================] - 276s 689ms/step - loss: 0.0965 - accuracy: 0.9654 - val_loss: 0.2226 - val_accuracy: 0.9161\n",
      "Epoch 10/20\n",
      "400/400 [==============================] - 276s 688ms/step - loss: 0.0678 - accuracy: 0.9764 - val_loss: 0.3774 - val_accuracy: 0.8736\n",
      "\n",
      "Epoch 00010: ReduceLROnPlateau reducing learning rate to 3.7500001781154424e-05.\n",
      "Epoch 11/20\n",
      "400/400 [==============================] - 277s 691ms/step - loss: 0.0537 - accuracy: 0.9818 - val_loss: 0.2150 - val_accuracy: 0.9287\n",
      "Epoch 12/20\n",
      "400/400 [==============================] - 278s 694ms/step - loss: 0.0490 - accuracy: 0.9829 - val_loss: 0.2989 - val_accuracy: 0.9068\n",
      "\n",
      "Epoch 00012: ReduceLROnPlateau reducing learning rate to 1e-05.\n",
      "Epoch 13/20\n",
      "400/400 [==============================] - 283s 706ms/step - loss: 0.0374 - accuracy: 0.9868 - val_loss: 0.2077 - val_accuracy: 0.9318\n",
      "Epoch 14/20\n",
      "400/400 [==============================] - 276s 690ms/step - loss: 0.0347 - accuracy: 0.9894 - val_loss: 0.1922 - val_accuracy: 0.9374\n",
      "Epoch 15/20\n",
      "400/400 [==============================] - 280s 698ms/step - loss: 0.0325 - accuracy: 0.9881 - val_loss: 0.2191 - val_accuracy: 0.9268\n",
      "Epoch 16/20\n",
      "400/400 [==============================] - 283s 706ms/step - loss: 0.0306 - accuracy: 0.9896 - val_loss: 0.2344 - val_accuracy: 0.9293\n",
      "Epoch 17/20\n",
      "400/400 [==============================] - 279s 698ms/step - loss: 0.0289 - accuracy: 0.9901 - val_loss: 0.2304 - val_accuracy: 0.9280\n",
      "Epoch 18/20\n",
      "400/400 [==============================] - 277s 691ms/step - loss: 0.0281 - accuracy: 0.9901 - val_loss: 0.2453 - val_accuracy: 0.9237\n",
      "Epoch 19/20\n",
      "400/400 [==============================] - 279s 696ms/step - loss: 0.0256 - accuracy: 0.9923 - val_loss: 0.2498 - val_accuracy: 0.9280\n",
      "Epoch 20/20\n",
      "400/400 [==============================] - 279s 697ms/step - loss: 0.0233 - accuracy: 0.9916 - val_loss: 0.2326 - val_accuracy: 0.9330\n"
     ]
    }
   ],
   "source": [
    " history = model.fit(train_generator,\n",
    "                     validation_data=valid_generator, verbose=1, epochs=20,\n",
    "                     callbacks=[early_stopping, reduce_lr , learning_rate_reduction])"
   ]
  },
  {
   "cell_type": "code",
   "execution_count": 19,
   "id": "b814a3ec",
   "metadata": {
    "execution": {
     "iopub.execute_input": "2022-09-12T06:30:40.254580Z",
     "iopub.status.busy": "2022-09-12T06:30:40.254201Z",
     "iopub.status.idle": "2022-09-12T06:30:41.144549Z",
     "shell.execute_reply": "2022-09-12T06:30:41.143496Z"
    },
    "papermill": {
     "duration": 1.316855,
     "end_time": "2022-09-12T06:30:41.147962",
     "exception": false,
     "start_time": "2022-09-12T06:30:39.831107",
     "status": "completed"
    },
    "tags": []
   },
   "outputs": [],
   "source": [
    "model.save('Lung-Xception.h5')"
   ]
  },
  {
   "cell_type": "code",
   "execution_count": 20,
   "id": "3ec47b1f",
   "metadata": {
    "execution": {
     "iopub.execute_input": "2022-09-12T06:30:42.503524Z",
     "iopub.status.busy": "2022-09-12T06:30:42.503130Z",
     "iopub.status.idle": "2022-09-12T06:30:45.005038Z",
     "shell.execute_reply": "2022-09-12T06:30:45.004088Z"
    },
    "papermill": {
     "duration": 3.146221,
     "end_time": "2022-09-12T06:30:45.007148",
     "exception": false,
     "start_time": "2022-09-12T06:30:41.860927",
     "status": "completed"
    },
    "tags": []
   },
   "outputs": [
    {
     "name": "stdout",
     "output_type": "stream",
     "text": [
      "Found 1597 validated image filenames belonging to 4 classes.\n"
     ]
    }
   ],
   "source": [
    "test_set = valid_data_gen.flow_from_dataframe(\n",
    "    test_data, \n",
    "    x_col='filename',\n",
    "    y_col='category',\n",
    "    target_size=(256,256),\n",
    "    class_mode='categorical',\n",
    "    batch_size=32,\n",
    "    shuffle=False\n",
    ")"
   ]
  },
  {
   "cell_type": "code",
   "execution_count": 21,
   "id": "744325c9",
   "metadata": {
    "execution": {
     "iopub.execute_input": "2022-09-12T06:30:45.865571Z",
     "iopub.status.busy": "2022-09-12T06:30:45.865175Z",
     "iopub.status.idle": "2022-09-12T06:31:06.605722Z",
     "shell.execute_reply": "2022-09-12T06:31:06.604531Z"
    },
    "papermill": {
     "duration": 21.175062,
     "end_time": "2022-09-12T06:31:06.607858",
     "exception": false,
     "start_time": "2022-09-12T06:30:45.432796",
     "status": "completed"
    },
    "tags": []
   },
   "outputs": [
    {
     "name": "stdout",
     "output_type": "stream",
     "text": [
      "50/50 [==============================] - 12s 242ms/step - loss: 0.2466 - accuracy: 0.9324\n"
     ]
    },
    {
     "data": {
      "text/plain": [
       "[0.24656543135643005, 0.9323732256889343]"
      ]
     },
     "execution_count": 21,
     "metadata": {},
     "output_type": "execute_result"
    }
   ],
   "source": [
    " model.evaluate(test_set)"
   ]
  },
  {
   "cell_type": "code",
   "execution_count": 22,
   "id": "43120f8f",
   "metadata": {
    "execution": {
     "iopub.execute_input": "2022-09-12T06:31:07.510114Z",
     "iopub.status.busy": "2022-09-12T06:31:07.509749Z",
     "iopub.status.idle": "2022-09-12T06:31:13.788680Z",
     "shell.execute_reply": "2022-09-12T06:31:13.787661Z"
    },
    "papermill": {
     "duration": 6.701111,
     "end_time": "2022-09-12T06:31:13.790887",
     "exception": false,
     "start_time": "2022-09-12T06:31:07.089776",
     "status": "completed"
    },
    "tags": []
   },
   "outputs": [
    {
     "name": "stdout",
     "output_type": "stream",
     "text": [
      "\n",
      "\n",
      "                 precision    recall  f1-score   support\n",
      "\n",
      "         Normal    0.93562   0.87200   0.90269       500\n",
      "Viral Pneumonia    0.94924   0.93344   0.94128       601\n",
      "          COVID    0.94406   1.00000   0.97122       135\n",
      "   Lung_Opacity    0.89924   0.98892   0.94195       361\n",
      "\n",
      "       accuracy                        0.93237      1597\n",
      "      macro avg    0.93204   0.94859   0.93929      1597\n",
      "   weighted avg    0.93324   0.93237   0.93188      1597\n",
      "\n"
     ]
    }
   ],
   "source": [
    "prob = model.predict(test_set)\n",
    "predIdxs = np.argmax(prob, axis=1) \n",
    "\n",
    "\n",
    "print('\\n')\n",
    "print(classification_report(test_set.labels, predIdxs,target_names = ['Normal','Viral Pneumonia', 'COVID', 'Lung_Opacity'], digits=5))"
   ]
  },
  {
   "cell_type": "code",
   "execution_count": 23,
   "id": "16010d42",
   "metadata": {
    "execution": {
     "iopub.execute_input": "2022-09-12T06:31:14.819780Z",
     "iopub.status.busy": "2022-09-12T06:31:14.819393Z",
     "iopub.status.idle": "2022-09-12T06:31:15.466365Z",
     "shell.execute_reply": "2022-09-12T06:31:15.465409Z"
    },
    "papermill": {
     "duration": 1.248776,
     "end_time": "2022-09-12T06:31:15.468612",
     "exception": false,
     "start_time": "2022-09-12T06:31:14.219836",
     "status": "completed"
    },
    "tags": []
   },
   "outputs": [
    {
     "data": {
      "image/png": "[encoded data removed]",
      "text/plain": [
       "<Figure size 864x864 with 2 Axes>"
      ]
     },
     "metadata": {},
     "output_type": "display_data"
    }
   ],
   "source": [
    "fig, (ax1, ax2) = plt.subplots(2, 1, figsize=(12, 12))\n",
    "ax1.plot(history.history['loss'], color='b', label=\"Training loss\")\n",
    "ax1.plot(history.history['val_loss'], color='r', label=\"validation loss\")\n",
    "ax1.set_xticks(np.arange(1, 26, 1))\n",
    "ax1.set_yticks(np.arange(0, 1, 0.1))\n",
    "\n",
    "ax2.plot(history.history['accuracy'], color='b', label=\"Training accuracy\")\n",
    "ax2.plot(history.history['val_accuracy'], color='r',label=\"Validation accuracy\")\n",
    "ax2.set_xticks(np.arange(1, 26, 1))\n",
    "\n",
    "legend = plt.legend(loc='best', shadow=True)\n",
    "plt.tight_layout()\n",
    "plt.show()"
   ]
  },
  {
   "cell_type": "code",
   "execution_count": 24,
   "id": "6d7c9259",
   "metadata": {
    "execution": {
     "iopub.execute_input": "2022-09-12T06:31:16.382814Z",
     "iopub.status.busy": "2022-09-12T06:31:16.382435Z",
     "iopub.status.idle": "2022-09-12T06:31:17.435509Z",
     "shell.execute_reply": "2022-09-12T06:31:17.434504Z"
    },
    "papermill": {
     "duration": 1.481748,
     "end_time": "2022-09-12T06:31:17.438410",
     "exception": false,
     "start_time": "2022-09-12T06:31:15.956662",
     "status": "completed"
    },
    "tags": []
   },
   "outputs": [
    {
     "name": "stdout",
     "output_type": "stream",
     "text": [
      "True value is : Normal\n",
      "Prediction is:\n",
      "Viral Pneumonia\n"
     ]
    },
    {
     "data": {
      "text/plain": [
       "<matplotlib.image.AxesImage at 0x7ff4f031a3d0>"
      ]
     },
     "execution_count": 24,
     "metadata": {},
     "output_type": "execute_result"
    },
    {
     "data": {
      "image/png": "[encoded data removed]",
      "text/plain": [
       "<Figure size 432x288 with 1 Axes>"
      ]
     },
     "metadata": {},
     "output_type": "display_data"
    }
   ],
   "source": [
    "sample = random.choice(test_data['filename'])\n",
    "\n",
    "\n",
    "category = sample.split('/')[-1].split('-')[0].upper()\n",
    "true = ''\n",
    "if category == 'COVID':\n",
    "    true = 'COVID'\n",
    "elif category == 'VIRAL PNEUMONIA':\n",
    "    true = 'Viral Pneumonia'\n",
    "elif category == 'Lung_Opacity':\n",
    "    true = 'Lung_Opacity'\n",
    "else:\n",
    "    true = 'Normal'\n",
    "\n",
    "print(f'True value is : {true}')\n",
    "    \n",
    "image = load_img(sample, target_size=(256, 256))\n",
    "img = img_to_array(image)/255\n",
    "img = img.reshape((1, 256, 256, 3))\n",
    "\n",
    "result = model.predict(img)\n",
    "result = np.argmax(result, axis=-1)\n",
    "print('Prediction is:')\n",
    "if result == 0:\n",
    "    print(\"Normal\")\n",
    "elif result == 1:\n",
    "    print(\"Viral Pneumonia\")\n",
    "elif result == 2:\n",
    "    print(\"Lung_Opacity\")\n",
    "else:\n",
    "    print(\"COVID \")\n",
    "    \n",
    "plt.imshow(image)"
   ]
  }
 ],
 "metadata": {
  "kernelspec": {
   "display_name": "Python 3.9.7 ('base')",
   "language": "python",
   "name": "python3"
  },
  "language_info": {
   "codemirror_mode": {
    "name": "ipython",
    "version": 3
   },
   "file_extension": ".py",
   "mimetype": "text/x-python",
   "name": "python",
   "nbconvert_exporter": "python",
   "pygments_lexer": "ipython3",
   "version": "3.9.7"
  },
  "papermill": {
   "default_parameters": {},
   "duration": 5751.671619,
   "end_time": "2022-09-12T06:31:21.346201",
   "environment_variables": {},
   "exception": null,
   "input_path": "__notebook__.ipynb",
   "output_path": "__notebook__.ipynb",
   "parameters": {},
   "start_time": "2022-09-12T04:55:29.674582",
   "version": "2.3.4"
  },
  "vscode": {
   "interpreter": {
    "hash": "ad2bdc8ecc057115af97d19610ffacc2b4e99fae6737bb82f5d7fb13d2f2c186"
   }
  }
 },
 "nbformat": 4,
 "nbformat_minor": 5
}
